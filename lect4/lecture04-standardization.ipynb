{
 "cells": [
  {
   "cell_type": "markdown",
   "metadata": {},
   "source": [
    "# Compound vs Substance"
   ]
  },
  {
   "cell_type": "markdown",
   "metadata": {},
   "source": [
    "## Objectives\n",
    "\n",
    "- Understand the difference between compounds and substances in PubChem's terminology.\n",
    "- Learn how chemical structures are represented in a real world.\n",
    "- Understand the disambiguity of name-structure associations.\n",
    "- Learn how to draw chemical structures programmatically."
   ]
  },
  {
   "cell_type": "markdown",
   "metadata": {},
   "source": [
    "<div class=\"alert alert-block alert-warning\">\n",
    "Note: To use the python code in this lesson plan, RDKit must be installed on the system. \n",
    "</div>"
   ]
  },
  {
   "cell_type": "markdown",
   "metadata": {},
   "source": [
    "Many users can simply run the following code to install RDKit."
   ]
  },
  {
   "cell_type": "raw",
   "metadata": {},
   "source": [
    "conda install -c rdkit rdkit"
   ]
  },
  {
   "cell_type": "markdown",
   "metadata": {},
   "source": [
    "Access to the full installation instructions can be found at the following link.\n",
    "https://www.rdkit.org/docs/Install.html"
   ]
  },
  {
   "cell_type": "markdown",
   "metadata": {},
   "source": [
    "## 1. Structure Standardization"
   ]
  },
  {
   "cell_type": "markdown",
   "metadata": {},
   "source": [
    "PubChem contains more than 200 millions chemical records submitted by hundreds of data contributors.  These depositor-provided records are archived in a database called \"**Substance**\" and each record in this database is called a **substance**.  The records in the Substance database are highly redundant, because different data contributors may submit information on the same chemical, independently of each other.  Therefore, PubChem extracts unique chemical structures from the Substance database through a process called standardization (https://doi.org/10.1186/s13321-018-0293-8).  These unique structures are stored in the **Compound** database and individaual records in this database is called \"**compounds**\".  To learn more about the PubChem compounds and substances, please read this PubChem Blog post (https://go.usa.gov/xVXct)."
   ]
  },
  {
   "cell_type": "markdown",
   "metadata": {},
   "source": [
    "The code cells below demonstrates the effects of chemical structure standardization."
   ]
  },
  {
   "cell_type": "markdown",
   "metadata": {},
   "source": [
    "**Step 1.** Download a list of the SIDs associated with a given CID"
   ]
  },
  {
   "cell_type": "markdown",
   "metadata": {},
   "source": [
    "First, let's get a list of SIDs that are associated CID 1174 (uracil)."
   ]
  },
  {
   "cell_type": "code",
   "execution_count": 1,
   "metadata": {},
   "outputs": [
    {
     "name": "stdout",
     "output_type": "stream",
     "text": [
      "515\n"
     ]
    }
   ],
   "source": [
    "import requests\n",
    "\n",
    "cid = 1174\n",
    "\n",
    "url = \"https://pubchem.ncbi.nlm.nih.gov/rest/pug/compound/cid/\" + str(cid) + \"/sids/txt\"\n",
    "res = requests.get(url)\n",
    "sids = res.text.split()\n",
    "print(len(sids))"
   ]
  },
  {
   "cell_type": "markdown",
   "metadata": {},
   "source": [
    "The above request returns 360+ substances, all of which are standardized to the same structure (CID 1174)."
   ]
  },
  {
   "cell_type": "markdown",
   "metadata": {},
   "source": [
    "**Step 2.** Download the structure data for the SIDs"
   ]
  },
  {
   "cell_type": "markdown",
   "metadata": {},
   "source": [
    "Now retrieve the depositor-provided structures for the returned substances.  "
   ]
  },
  {
   "cell_type": "code",
   "execution_count": 2,
   "metadata": {},
   "outputs": [
    {
     "name": "stdout",
     "output_type": "stream",
     "text": [
      "Processing chunk 0\n",
      "Processing chunk 1\n",
      "Processing chunk 2\n",
      "Processing chunk 3\n",
      "Processing chunk 4\n",
      "Processing chunk 5\n",
      "Processing chunk 6\n",
      "Processing chunk 7\n",
      "Processing chunk 8\n",
      "Processing chunk 9\n",
      "Processing chunk 10\n"
     ]
    }
   ],
   "source": [
    "import time\n",
    "\n",
    "chunk_size = 50\n",
    "\n",
    "if len(sids) % chunk_size == 0 :\n",
    "    num_chunks = int( len(sids) / chunk_size )\n",
    "else :\n",
    "    num_chunks = int( len(sids) / chunk_size ) + 1\n",
    "\n",
    "f = open(\"cid2sids-uracil.sdf\", \"w\")\n",
    "\n",
    "for i in range(num_chunks):\n",
    "    \n",
    "    print(\"Processing chunk\", i)\n",
    "    \n",
    "    idx1 = chunk_size * i\n",
    "    idx2 = chunk_size * (i + 1)\n",
    "    str_sids = \",\".join(sids[idx1:idx2])\n",
    "    \n",
    "    url = \"https://pubchem.ncbi.nlm.nih.gov/rest/pug/substance/sid/\" + str_sids + \"/record/sdf\"\n",
    "    res = requests.get(url)\n",
    "\n",
    "    f.write(res.text)\n",
    "    time.sleep(0.2)\n",
    "\n",
    "f.close()"
   ]
  },
  {
   "cell_type": "markdown",
   "metadata": {},
   "source": [
    "**Step 3.** Convert the structures in the SDF file into the SMILES strings and identify unique SMILES and their frequencies."
   ]
  },
  {
   "cell_type": "code",
   "execution_count": 3,
   "metadata": {},
   "outputs": [
    {
     "name": "stdout",
     "output_type": "stream",
     "text": [
      "349 O=c1cc[nH]c(=O)[nH]1\n",
      "105 Oc1ccnc(O)n1\n",
      "35 \n",
      "9 O=c1ccnc(O)[nH]1\n",
      "6 O=c1nccc(O)[nH]1\n",
      "6 O=c1nc(O)cc[nH]1\n",
      "5 O=c1cc[nH]c(O)n1\n"
     ]
    }
   ],
   "source": [
    "from rdkit import Chem\n",
    "\n",
    "unique_smiles_freq = dict()\n",
    "\n",
    "suppl = Chem.SDMolSupplier('cid2sids-uracil.sdf')\n",
    "\n",
    "for mol in suppl:\n",
    "\n",
    "    smiles = Chem.MolToSmiles(mol,isomericSmiles=True)\n",
    "\n",
    "    unique_smiles_freq[ smiles ] = unique_smiles_freq.get(smiles,0) + 1\n",
    "\n",
    "sorted_by_freq = [ (v, k) for k, v in unique_smiles_freq.items() ]\n",
    "sorted_by_freq.sort(reverse=True)\n",
    "for v, k in sorted_by_freq :\n",
    "    print(v, k)"
   ]
  },
  {
   "cell_type": "markdown",
   "metadata": {},
   "source": [
    "The above output shows that the 360+ SIDs associated with CID 1174 are represented with six different SMILES strings.  In addition, 12 substance records that resulted in an \"empty\" SMILES strings, implying that the depositors of these substance records did not provide structral information.  You may want to what these 12 substances are, but the above code cell does not tell you what they are.  This can be done using the following code cell."
   ]
  },
  {
   "cell_type": "code",
   "execution_count": 4,
   "metadata": {
    "scrolled": true,
    "tags": []
   },
   "outputs": [
    {
     "data": {
      "text/plain": [
       "['50608295 : Deposited Substance chemical structure was generated via Synonym \"CID1174\" to be CID 1174',\n",
       " '76715622 : Deposited Substance chemical structure was generated via Synonym(s) \"uracil\" and MeSH to be CID 1174',\n",
       " '131322919 : Deposited Substance chemical structure was generated via Synonym(s) \"66-22-8\", \"1,2,3,4-tetrahydropyrimidine-2,4-dione\", \"MFCD00006016\" and Synonym Consistency to be CID 1174',\n",
       " '254761593 : Deposited Substance chemical structure was generated via Synonym(s) \"uracil\" and MeSH to be CID 1174',\n",
       " '313082517 : Deposited Substance chemical structure was generated via Synonym(s) \"uracil\" and MeSH to be CID 1174',\n",
       " '329735657 : Deposited Substance chemical structure was generated via Synonym(s) \"66-22-8\" and Synonym Consistency to be CID 1174',\n",
       " '330000149 : Deposited Substance chemical structure was generated via Synonym(s) \"uracil\" and MeSH to be CID 1174',\n",
       " '375972167 : Deposited Substance chemical structure was generated via Synonym(s) \"66255-05-8\" and Synonym Consistency to be CID 1174',\n",
       " '381002398 : Deposited Substance chemical structure was generated via Synonym(s) \"66-22-8\" and Synonym Consistency to be CID 1174',\n",
       " '381013941 : Deposited Substance chemical structure was generated via Synonym(s) \"66-22-8\" and Synonym Consistency to be CID 1174',\n",
       " '381360788 : Deposited Substance chemical structure was generated via Synonym(s) \"uracil\" and MeSH to be CID 1174',\n",
       " '384257697 : Deposited Substance chemical structure was generated via Synonym(s) \"uracil\" and MeSH to be CID 1174',\n",
       " '402318513 : Deposited Substance chemical structure was generated via Synonym(s) \"66-22-8\" and Synonym Consistency to be CID 1174',\n",
       " '402318514 : Deposited Substance chemical structure was generated via Synonym(s) \"66-22-8\" and Synonym Consistency to be CID 1174',\n",
       " '402318515 : Deposited Substance chemical structure was generated via Synonym(s) \"66-22-8\" and Synonym Consistency to be CID 1174',\n",
       " '434131514 : Deposited Substance chemical structure was generated via Synonym(s) \"uracil\" and MeSH to be CID 1174',\n",
       " '438512618 : Deposited Substance chemical structure was generated via Synonym(s) \"uracil\" and MeSH to be CID 1174',\n",
       " '441085908 : Deposited Substance chemical structure was generated via Synonym(s) \"uracil\" and MeSH to be CID 1174',\n",
       " '441555913 : Deposited Substance chemical structure was generated via Synonym(s) \"uracil\" and MeSH to be CID 1174',\n",
       " '441560087 : Deposited Substance chemical structure was generated via Synonym(s) \"uracil\" and MeSH to be CID 1174',\n",
       " '459144671 : Deposited Substance chemical structure was generated via Synonym(s) \"66-22-8\" and Synonym Consistency to be CID 1174',\n",
       " '459342417 : Deposited Substance chemical structure was generated via Synonym(s) \"uracil\" and MeSH to be CID 1174',\n",
       " '468630846 : Deposited Substance chemical structure was generated via Synonym(s) \"2,4(1H,3H)-Pyrimidinedione\" and Synonym Consistency to be CID 1174',\n",
       " '468838340 : Deposited Substance chemical structure was generated via Synonym(s) \"2,4-dioxopyrimidine\" and Synonym Consistency to be CID 1174',\n",
       " '468857836 : Deposited Substance chemical structure was generated via Synonym(s) \"51953-14-1\", \"2,4-Pyrimidinediol\" and Synonym Consistency to be CID 1174',\n",
       " '468857844 : Deposited Substance chemical structure was generated via Synonym(s) \"51953-19-6\", \"2(1H)-Pyrimidinone, 4-hydroxy-\" and Synonym Consistency to be CID 1174',\n",
       " '469422143 : Deposited Substance chemical structure was generated via Synonym(s) \"66224-60-0\", \"2(1H)-Pyrimidinone, 6-hydroxy-\" and Synonym Consistency to be CID 1174',\n",
       " '469458549 : Deposited Substance chemical structure was generated via Synonym(s) \"uracil\" and MeSH to be CID 1174',\n",
       " '470538389 : Deposited Substance chemical structure was generated via Synonym(s) \"24897-51-6\" and Synonym Consistency to be CID 1174',\n",
       " '470635957 : Deposited Substance chemical structure was generated via Synonym(s) \"51953-14-1\" and Synonym Consistency to be CID 1174',\n",
       " '470681883 : Deposited Substance chemical structure was generated via Synonym(s) \"66-22-8\" and Synonym Consistency to be CID 1174',\n",
       " '472723672 : Deposited Substance chemical structure was generated via Synonym(s) \"uracil\" and MeSH to be CID 1174',\n",
       " '475813502 : Deposited Substance chemical structure was generated via Synonym(s) \"uracil\" and MeSH to be CID 1174',\n",
       " '488322616 : Deposited Substance chemical structure was generated via Synonym(s) \"uracil\" and MeSH to be CID 1174',\n",
       " '508717570 : Deposited Substance chemical structure was generated via Synonym(s) \"51953-14-1\", \"Pyrimidine-2,4-diol\" and Synonym Consistency to be CID 1174']"
      ]
     },
     "execution_count": 4,
     "metadata": {},
     "output_type": "execute_result"
    }
   ],
   "source": [
    "output_lines = []\n",
    "\n",
    "for mol in suppl:\n",
    "    smiles = Chem.MolToSmiles(mol, isomericSmiles=True)\n",
    "    if smiles == \"\":\n",
    "        sid = mol.GetProp(\"PUBCHEM_SUBSTANCE_ID\")\n",
    "        auto = mol.GetProp(\"PUBCHEM_SUBS_AUTO_STRUCTURE\")\n",
    "        output_lines.append(f\"{sid} : {auto}\")\n",
    "\n",
    "output_lines"
   ]
  },
  {
   "cell_type": "raw",
   "metadata": {},
   "source": [
    "# Convert this from a raw cell to a code cell to print out the depositor info without using a scrollable box\n",
    "for mol in suppl:\n",
    "\n",
    "    smiles = Chem.MolToSmiles(mol,isomericSmiles=True)\n",
    "    \n",
    "    if ( smiles == \"\" ) :\n",
    "        print(mol.GetProp('PUBCHEM_SUBSTANCE_ID'), \":\", mol.GetProp('PUBCHEM_SUBS_AUTO_STRUCTURE'))\n"
   ]
  },
  {
   "cell_type": "markdown",
   "metadata": {},
   "source": [
    "Sometimes a data depositor does not provide the structure of a chemical but its chemical synonym(s).  In that case, PubChem uses the chemical synonyms to assign a structure to this structure-less record.  For example, SID 50608295 (one of the 12 structures without SMILES strings in the above output) did not have a depositor-provided structure, but its depositor-provided synonyms include \"CID1174\".  Therefore, PubChem assigns SID 50608295 to CID 1174, although the depositor did not provide the structure of SID 50608295.  (Please check the structure and synonyms for SID 50608295 stored in the SDF file (\"cid2sids-uracil.sdf\") generated in step 2)."
   ]
  },
  {
   "cell_type": "markdown",
   "metadata": {},
   "source": [
    "**Step 4.** Generate the structure images from the SMILES"
   ]
  },
  {
   "cell_type": "markdown",
   "metadata": {},
   "source": [
    "Now we want to see what these SMILES strings look like, by drawing molecular structures from them."
   ]
  },
  {
   "cell_type": "code",
   "execution_count": 5,
   "metadata": {
    "scrolled": true,
    "tags": []
   },
   "outputs": [
    {
     "name": "stdout",
     "output_type": "stream",
     "text": [
      "O=c1cc[nH]c(=O)[nH]1\n"
     ]
    },
    {
     "data": {
      "image/jpeg": "[encoded data removed]",
      "image/png": "[encoded data removed]",
      "text/plain": [
       "<PIL.PngImagePlugin.PngImageFile image mode=RGB size=150x150>"
      ]
     },
     "metadata": {},
     "output_type": "display_data"
    },
    {
     "name": "stdout",
     "output_type": "stream",
     "text": [
      "Oc1ccnc(O)n1\n"
     ]
    },
    {
     "data": {
      "image/jpeg": "[encoded data removed]",
      "image/png": "[encoded data removed]",
      "text/plain": [
       "<PIL.PngImagePlugin.PngImageFile image mode=RGB size=150x150>"
      ]
     },
     "metadata": {},
     "output_type": "display_data"
    },
    {
     "name": "stdout",
     "output_type": "stream",
     "text": [
      "O=c1nc(O)cc[nH]1\n"
     ]
    },
    {
     "data": {
      "image/jpeg": "[encoded data removed]",
      "image/png": "[encoded data removed]",
      "text/plain": [
       "<PIL.PngImagePlugin.PngImageFile image mode=RGB size=150x150>"
      ]
     },
     "metadata": {},
     "output_type": "display_data"
    },
    {
     "name": "stdout",
     "output_type": "stream",
     "text": [
      "O=c1nccc(O)[nH]1\n"
     ]
    },
    {
     "data": {
      "image/jpeg": "[encoded data removed]",
      "image/png": "[encoded data removed]",
      "text/plain": [
       "<PIL.PngImagePlugin.PngImageFile image mode=RGB size=150x150>"
      ]
     },
     "metadata": {},
     "output_type": "display_data"
    },
    {
     "name": "stdout",
     "output_type": "stream",
     "text": [
      "O=c1ccnc(O)[nH]1\n"
     ]
    },
    {
     "data": {
      "image/jpeg": "[encoded data removed]",
      "image/png": "[encoded data removed]",
      "text/plain": [
       "<PIL.PngImagePlugin.PngImageFile image mode=RGB size=150x150>"
      ]
     },
     "metadata": {},
     "output_type": "display_data"
    },
    {
     "name": "stdout",
     "output_type": "stream",
     "text": [
      "O=c1cc[nH]c(O)n1\n"
     ]
    },
    {
     "data": {
      "image/jpeg": "[encoded data removed]",
      "image/png": "[encoded data removed]",
      "text/plain": [
       "<PIL.PngImagePlugin.PngImageFile image mode=RGB size=150x150>"
      ]
     },
     "metadata": {},
     "output_type": "display_data"
    }
   ],
   "source": [
    "from rdkit.Chem import Draw\n",
    "\n",
    "for mysmiles in unique_smiles_freq.keys() :\n",
    "\n",
    "    if mysmiles != \"\" :\n",
    "        \n",
    "        print(mysmiles)\n",
    "        img = Draw.MolToImage( Chem.MolFromSmiles(mysmiles), size=(150, 150) )\n",
    "        display(img)"
   ]
  },
  {
   "cell_type": "raw",
   "metadata": {},
   "source": [
    "# convert this raw cell to a code cell to perform the above query without a scrollable box\n",
    "from rdkit.Chem import Draw\n",
    "\n",
    "for mysmiles in unique_smiles_freq.keys() :\n",
    "\n",
    "    if mysmiles != \"\" :\n",
    "        \n",
    "        print(mysmiles)\n",
    "        img = Draw.MolToImage( Chem.MolFromSmiles(mysmiles), size=(150, 150) )\n",
    "        display(img)\n"
   ]
  },
  {
   "cell_type": "markdown",
   "metadata": {},
   "source": [
    "You may want to write these molecule images in files, rather than displaying them on this Jupyter notebook."
   ]
  },
  {
   "cell_type": "code",
   "execution_count": 6,
   "metadata": {},
   "outputs": [],
   "source": [
    "from rdkit.Chem import Draw\n",
    "\n",
    "index = 1\n",
    "\n",
    "for mysmiles in unique_smiles_freq.keys() :\n",
    "\n",
    "    if mysmiles != \"\" :\n",
    "        \n",
    "        filename = 'image' + str(index) +'.png'\n",
    "        Draw.MolToFile( Chem.MolFromSmiles(mysmiles), filename )\n",
    "        index += 1"
   ]
  },
  {
   "cell_type": "markdown",
   "metadata": {},
   "source": [
    "You may also want to display all the images in a single figure."
   ]
  },
  {
   "cell_type": "code",
   "execution_count": 7,
   "metadata": {},
   "outputs": [],
   "source": [
    "from PIL import Image"
   ]
  },
  {
   "cell_type": "code",
   "execution_count": 8,
   "metadata": {},
   "outputs": [
    {
     "data": {
      "image/jpeg": "[encoded data removed]",
      "image/png": "[encoded data removed]",
      "text/plain": [
       "<PIL.Image.Image image mode=RGB size=900x150>"
      ]
     },
     "metadata": {},
     "output_type": "display_data"
    }
   ],
   "source": [
    "images = []\n",
    "\n",
    "for mysmiles in unique_smiles_freq.keys() :\n",
    "\n",
    "    if mysmiles != \"\" :\n",
    "        \n",
    "        img = Draw.MolToImage( Chem.MolFromSmiles(mysmiles), size=(150, 150) )\n",
    "        images.append(img)\n",
    "\n",
    "big_img = Image.new('RGB', (900,150))  # enought to arrange six 150x150 images\n",
    "\n",
    "for i in range(0,len(images)):\n",
    "\n",
    "    #paste the image at location i,j:\n",
    "    big_img.paste(images[i], (i*150, 0 ) )\n",
    "\n",
    "display(big_img)"
   ]
  },
  {
   "cell_type": "code",
   "execution_count": 9,
   "metadata": {},
   "outputs": [],
   "source": [
    "big_img.save('image_grid.png')"
   ]
  },
  {
   "cell_type": "markdown",
   "metadata": {},
   "source": [
    "As shown these chemical images, the 360+ substances associated with CID 1174 (uracil) correspond to six tautomeric form of uracil, which differ from each other in the position of \"movable\" hydrogen atoms.  Compare these structures with their standardized structure (CID 1174)."
   ]
  },
  {
   "cell_type": "code",
   "execution_count": 10,
   "metadata": {},
   "outputs": [
    {
     "data": {
      "image/jpeg": "[encoded data removed]",
      "image/png": "[encoded data removed]",
      "text/plain": [
       "<PIL.PngImagePlugin.PngImageFile image mode=RGB size=150x150>"
      ]
     },
     "execution_count": 10,
     "metadata": {},
     "output_type": "execute_result"
    }
   ],
   "source": [
    "res = requests.get('https://pubchem.ncbi.nlm.nih.gov/rest/pug/compound/cid/1174/property/isomericsmiles/txt')\n",
    "img = Draw.MolToImage( Chem.MolFromSmiles( res.text.rstrip() ), size=(150, 150) )\n",
    "img"
   ]
  },
  {
   "cell_type": "markdown",
   "metadata": {},
   "source": [
    "Alternatively, you can get the structure image of CID 1174 from PubChem."
   ]
  },
  {
   "cell_type": "code",
   "execution_count": 11,
   "metadata": {},
   "outputs": [
    {
     "data": {
      "text/html": [
       "<img src=\"https://pubchem.ncbi.nlm.nih.gov/rest/pug/compound/cid/1174/record/PNG?image_size=300x300\"/>"
      ],
      "text/plain": [
       "<IPython.core.display.Image object>"
      ]
     },
     "execution_count": 11,
     "metadata": {},
     "output_type": "execute_result"
    }
   ],
   "source": [
    "from IPython.display import Image\n",
    "Image(url='https://pubchem.ncbi.nlm.nih.gov/rest/pug/compound/cid/1174/record/PNG?image_size=300x300')"
   ]
  },
  {
   "cell_type": "markdown",
   "metadata": {},
   "source": [
    "**Exercise 1a:** The **MolToSmiles()** function used in **Step 3** generates the canonical SMILES string by default.  Read the RDKit manual about the arguments available for this function (https://www.rdkit.org/docs/source/rdkit.Chem.rdmolfiles.html) and write a code that generates non-canonical SMILES strings for the 360+ substance records associated with uracil (CID 1174).\n",
    "\n",
    "- Ignore/skip structure-less records using a conditional statement (i.e., an if statement).\n",
    "- Print the number of unique non-canonical SMILES.\n",
    "- Print unique non-canonical SMILES, sorted by frequency.\n",
    "- For a given molecule, there may be multiple ways to write SMILES strings: one of them is selected as the \"canonical\" SMILES and all the others are considered as \"non-canonical\".  However, for the purpose of this exercise, we want to generate only one non-canonical SMILES for each record (because the function will return only one SMILES string (the canonical SMILES or one of possible non-canonical SMILES))."
   ]
  },
  {
   "cell_type": "code",
   "execution_count": 12,
   "metadata": {},
   "outputs": [],
   "source": [
    "# Write your code in this cell.\n",
    "\n",
    "\n"
   ]
  },
  {
   "cell_type": "markdown",
   "metadata": {},
   "source": [
    "**Exercise 1b:**  The RDKit function \"**MolsToGridImage()**\" allows you to draw a \"grid image\" that shows multiple structures.  Read the RDKit manual about \"**MolsToGridImage()**\" (https://www.rdkit.org/docs/source/rdkit.Chem.Draw.html) and display the structures represented by the unique non-canonical SMILES generated from **Exercise 1a**.  "
   ]
  },
  {
   "cell_type": "code",
   "execution_count": 13,
   "metadata": {},
   "outputs": [],
   "source": [
    "# Write your code in this cell.\n",
    "\n",
    "\n",
    "\n"
   ]
  },
  {
   "cell_type": "markdown",
   "metadata": {},
   "source": [
    "**Exercise 1c:** Retrieve the substance records associated with guanine (CID 135398634) and display unique structures generated from them, by following these steps:\n",
    "\n",
    "- Retrieve the SIDs associated CID 135398634\n",
    "- Download the structure data for the retrieved SIDs (in SDF)\n",
    "- Generate canonical SMILES strings from the structure data in the SDF file and identify unique canonical SMILES strings\n",
    "- Draw the structures represented by the unqiue canonical SMILES strings in a single figure."
   ]
  },
  {
   "cell_type": "code",
   "execution_count": 14,
   "metadata": {},
   "outputs": [],
   "source": [
    "# Write your code in this cell.\n",
    "\n",
    "\n"
   ]
  },
  {
   "cell_type": "markdown",
   "metadata": {},
   "source": [
    "**Exercise 1d:** Retrieve the substance records whose synonym is \"glucose\" and display unique structures generated from them, by following these steps:\n",
    "\n",
    "- Retrieve the SIDs whose synonym is \"glucose\".\n",
    "- Download the structure data for the retrieved SIDs (in SDF)\n",
    "- Generate canonical SMILES strings from the structure data in the SDF file and identify unique canonical SMILES strings\n",
    "- Draw the structures represented by the unqiue canonical SMILES strings in a single figure.\n"
   ]
  },
  {
   "cell_type": "code",
   "execution_count": 15,
   "metadata": {},
   "outputs": [],
   "source": [
    "# Write your code in this cell.\n",
    "\n",
    "\n"
   ]
  },
  {
   "cell_type": "markdown",
   "metadata": {},
   "source": [
    "**Exercise 1e:** Retrieve the compound records associated with the SIDs retrieved in **Exercise 1d** and display unique structures generated from them, by following these steps:\n",
    "\n",
    "- Retrieve the CIDs associated with the SIDs whose name is \"glucose\", using a single PUG-REST request (i.e., using the list conversion covered in the previous notebook, \"lecture03-list-conversion.ipynb\").\n",
    "- Identify unique CIDs from the returned CIDs, using the **set()** function in python.\n",
    "- Retrieve the isomeric SMILES for the unique CIDs through PUG-REST.\n",
    "- Draw the structures represented by the returned SMILES strings in a single figure."
   ]
  },
  {
   "cell_type": "code",
   "execution_count": 16,
   "metadata": {},
   "outputs": [],
   "source": [
    "# Write your code in this cell.\n",
    "\n",
    "\n"
   ]
  },
  {
   "cell_type": "code",
   "execution_count": null,
   "metadata": {},
   "outputs": [],
   "source": []
  }
 ],
 "metadata": {
  "kernelspec": {
   "display_name": "Python3.10 (MolSSI)",
   "language": "python",
   "name": "molssi"
  },
  "language_info": {
   "codemirror_mode": {
    "name": "ipython",
    "version": 3
   },
   "file_extension": ".py",
   "mimetype": "text/x-python",
   "name": "python",
   "nbconvert_exporter": "python",
   "pygments_lexer": "ipython3",
   "version": "3.10.13"
  }
 },
 "nbformat": 4,
 "nbformat_minor": 4
}

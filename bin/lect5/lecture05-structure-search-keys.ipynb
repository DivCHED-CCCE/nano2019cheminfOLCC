{
 "cells": [
  {
   "cell_type": "markdown",
   "metadata": {},
   "source": [
    "# Structure Search"
   ]
  },
  {
   "cell_type": "markdown",
   "metadata": {},
   "source": [
    "## Objectives\n",
    "- Learn various types of structure searches including identity search, similarity search, substructure and super structure searches.\n",
    "- Learn the optional parameters available for each search type.\n"
   ]
  },
  {
   "cell_type": "markdown",
   "metadata": {},
   "source": [
    "Using PUG-REST, one can perform various types of structure searches (https://bit.ly/2lPznCo), including:\n",
    "- identity search\n",
    "- similarity search\n",
    "- super/substructure search\n",
    "- molecular formula search\n",
    "<br>\n",
    "\n",
    "As explained in a PubChem paper (https://bit.ly/2kirxky), whereas structure search can be performed in either an 'asynchronous' or 'synchronous' way, it is highly recommended to use the synchronous approach.<br>\n",
    "The synchronous searches are invoked by using the keywords prefixed with ‘fast’, such as **fastidenity**, **fastsimilarity_2d**, **fastsimilarity_3d**, **fastsubstructure**, **fastsuperstructure**, and **fastformula**."
   ]
  },
  {
   "cell_type": "markdown",
   "metadata": {},
   "source": [
    "<div class=\"alert alert-block alert-warning\">\n",
    "Note: To use the python code in this lesson plan, RDKit must be installed on the system. \n",
    "</div>"
   ]
  },
  {
   "cell_type": "markdown",
   "metadata": {},
   "source": [
    "Many users can simply run the following code to install RDKit."
   ]
  },
  {
   "cell_type": "raw",
   "metadata": {},
   "source": [
    "conda install -c rdkit rdkit"
   ]
  },
  {
   "cell_type": "markdown",
   "metadata": {},
   "source": [
    "Access to the full installation instructions can be found at the following link.\n",
    "https://www.rdkit.org/docs/Install.html"
   ]
  },
  {
   "cell_type": "markdown",
   "metadata": {},
   "source": [
    "## 1. Identity Search"
   ]
  },
  {
   "cell_type": "markdown",
   "metadata": {},
   "source": [
    "PUG-REST allows you to search the PubChem Compound database for molecules identical to the query molecule.  PubChem's identity search supports different contexts of chemical identity, which the user can specify using the optional parameter, \"identity_type\".  Here are some commonly-used chemical identity contexts.\n",
    "- **same_connectivity**: returns compounds with the same atom connectivity as the query molecule, ignoring stereochemistry and isotope information.\n",
    "- **same_isotope**: returns compounds with the same isotopes (as well as the same atom connectivity) as the query molecule.  Stereochemistry will be ignored.\n",
    "- **same_stereo**: returns compounds with the same stereochemistry (as well as the same atom connectivity) as the query molecule.  Isotope information will be ignored.\n",
    "- **same_stereo_isotope**: returns compounds with the same stereochemistry AND isotope information (as well as the same atom connectivity).  This is the default."
   ]
  },
  {
   "cell_type": "markdown",
   "metadata": {},
   "source": [
    "The following code cell demostrates how these different contexts of chemical sameness affects identity search in PubChem."
   ]
  },
  {
   "cell_type": "code",
   "execution_count": 1,
   "metadata": {},
   "outputs": [
    {
     "ename": "ModuleNotFoundError",
     "evalue": "No module named 'rdkit'",
     "output_type": "error",
     "traceback": [
      "\u001b[1;31m---------------------------------------------------------------------------\u001b[0m",
      "\u001b[1;31mModuleNotFoundError\u001b[0m                       Traceback (most recent call last)",
      "\u001b[1;32m<ipython-input-1-3164b0317044>\u001b[0m in \u001b[0;36m<module>\u001b[1;34m()\u001b[0m\n\u001b[0;32m      3\u001b[0m \u001b[1;32mimport\u001b[0m \u001b[0mio\u001b[0m\u001b[1;33m\u001b[0m\u001b[0m\n\u001b[0;32m      4\u001b[0m \u001b[1;33m\u001b[0m\u001b[0m\n\u001b[1;32m----> 5\u001b[1;33m \u001b[1;32mfrom\u001b[0m \u001b[0mrdkit\u001b[0m \u001b[1;32mimport\u001b[0m \u001b[0mChem\u001b[0m\u001b[1;33m\u001b[0m\u001b[0m\n\u001b[0m\u001b[0;32m      6\u001b[0m \u001b[1;32mfrom\u001b[0m \u001b[0mrdkit\u001b[0m\u001b[1;33m.\u001b[0m\u001b[0mChem\u001b[0m \u001b[1;32mimport\u001b[0m \u001b[0mDraw\u001b[0m\u001b[1;33m\u001b[0m\u001b[0m\n\u001b[0;32m      7\u001b[0m \u001b[1;33m\u001b[0m\u001b[0m\n",
      "\u001b[1;31mModuleNotFoundError\u001b[0m: No module named 'rdkit'"
     ]
    }
   ],
   "source": [
    "import requests\n",
    "import time\n",
    "import io\n",
    "\n",
    "from rdkit import Chem\n",
    "from rdkit.Chem import Draw\n",
    "\n",
    "prolog = \"https://pubchem.ncbi.nlm.nih.gov/rest/pug\"\n",
    "\n",
    "mydata = { 'smiles' : 'C(/C=C/Cl)Cl' }\n",
    "options = [ 'same_stereo_isotope', # This is the default\n",
    "            'same_stereo',\n",
    "            'same_isotope',\n",
    "            'same_connectivity']\n",
    "\n",
    "for myoption in ( options ) :\n",
    "\n",
    "    print(\"#### Identity_type:\", myoption)\n",
    "    \n",
    "    url = prolog + '/compound/fastidentity/smiles/property/isomericsmiles/csv?identity_type=' + myoption\n",
    "    res = requests.post(url, data=mydata)\n",
    "    \n",
    "    mycids = []\n",
    "    mysmiles = []\n",
    "    \n",
    "    file = io.StringIO(res.text)\n",
    "    file.readline()               # Skip the first line (column heads)\n",
    "    \n",
    "    for line in file :\n",
    "        \n",
    "        ( cid_tmp, smiles_tmp ) = line.rstrip().split(',')\n",
    "        print(cid_tmp, smiles_tmp)\n",
    "        \n",
    "        mycids.append( cid_tmp )\n",
    "        mysmiles.append( smiles_tmp.replace('\"',\"\") )\n",
    "\n",
    "    mols = []\n",
    "    \n",
    "    for x in mysmiles :\n",
    "        \n",
    "        mol = Chem.MolFromSmiles(x)\n",
    "        Chem.FindPotentialStereoBonds(mol)    # Identify potential stereo bonds!\n",
    "        mols.append(mol)\n",
    "    \n",
    "    img = Draw.MolsToGridImage(mols, molsPerRow=3, subImgSize=(200,200), legends=mycids)\n",
    "    display(img)\n",
    "            \n",
    "    time.sleep(0.2)"
   ]
  },
  {
   "cell_type": "markdown",
   "metadata": {},
   "source": [
    "**Exercise 1a:** Find compounds that has the same atom connectivity and isotope information as the query molecule."
   ]
  },
  {
   "cell_type": "code",
   "execution_count": 2,
   "metadata": {},
   "outputs": [],
   "source": [
    "query = \"CC1=CN=C(C(=C1OC)C)C[S@](=O)C2=NC3=C(N2)C=C(C=C3)OC\""
   ]
  },
  {
   "cell_type": "markdown",
   "metadata": {},
   "source": [
    "For each compound returned from the search, retrieve the following information.\n",
    "- CID\n",
    "- Isomeric SMILES string\n",
    "- chemical synonyms (for simplicity, print only the five synonyms that first occur in the name list retrieved for each compound)\n",
    "- Structure image\n"
   ]
  },
  {
   "cell_type": "code",
   "execution_count": 3,
   "metadata": {},
   "outputs": [
    {
     "data": {
      "image/png": "[encoded data removed]",
      "text/plain": [
       "<PIL.PngImagePlugin.PngImageFile image mode=RGB size=800x600 at 0x27D31A97C18>"
      ]
     },
     "metadata": {},
     "output_type": "display_data"
    },
    {
     "name": "stdout",
     "output_type": "stream",
     "text": [
      "CID 9568614\n",
      "\t CC1=CN=C(C(=C1OC)C)C[S@](=O)C2=NC3=C(N2)C=C(C=C3)OC\n",
      "\t ['Esomeprazole', '(S)-Omeprazole', '119141-88-7', '(-)-Omeprazole', '(S)-(-)-Omeprazole']\n",
      "CID 4594\n",
      "\t CC1=CN=C(C(=C1OC)C)CS(=O)C2=NC3=C(N2)C=C(C=C3)OC\n",
      "\t ['omeprazole', '73590-58-6', 'Losec', 'Prilosec', 'Antra']\n",
      "CID 9579578\n",
      "\t CC1=CN=C(C(=C1OC)C)C[S@@](=O)C2=NC3=C(N2)C=C(C=C3)OC\n",
      "\t ['Esomeprazole', '(r)-omeprazole', '119141-89-8', '(R)-5-Methoxy-2-(((4-methoxy-3,5-dimethylpyridin-2-yl)methyl)sulfinyl)-1H-benzo[d]imidazole', 'AK101106']\n"
     ]
    }
   ],
   "source": [
    "# Write your code in this cell.\n",
    "\n",
    "import requests\n",
    "import time\n",
    "import io\n",
    "\n",
    "from rdkit import Chem\n",
    "from rdkit.Chem import Draw\n",
    "\n",
    "prolog = \"https://pubchem.ncbi.nlm.nih.gov/rest/pug\"\n",
    "\n",
    "mydata = {'smiles' : query }\n",
    "url = prolog + '/compound/fastidentity/smiles/property/isomericsmiles/csv?identity_type=same_isotope'\n",
    "res = requests.post(url, data=mydata)\n",
    "    \n",
    "mycids = []\n",
    "mysmiles = []\n",
    "    \n",
    "file = io.StringIO(res.text)\n",
    "file.readline()               # Skip the first line (column heads)\n",
    "    \n",
    "for line in file :\n",
    "        \n",
    "    ( cid_tmp, smiles_tmp ) = line.rstrip().split(',')\n",
    "    mycids.append( cid_tmp )\n",
    "    mysmiles.append( smiles_tmp.replace('\"',\"\") )\n",
    "\n",
    "mols = []\n",
    "    \n",
    "for x in mysmiles :\n",
    "        \n",
    "    mol = Chem.MolFromSmiles(x)\n",
    "    Chem.FindPotentialStereoBonds(mol)    # Identify potential stereo bonds\n",
    "    mols.append(mol)\n",
    "    \n",
    "img = Draw.MolsToGridImage(mols, molsPerRow=2, subImgSize=(400,300), legends=mycids)\n",
    "display(img)\n",
    "\n",
    "for i in range(len(mycids)) :\n",
    "    \n",
    "    url = prolog + '/compound/cid/' + mycids[i] + '/synonyms/TXT'\n",
    "    res = requests.get(url)\n",
    "    mysynonyms = res.text.split()\n",
    "    print(\"CID\", mycids[i])\n",
    "    print(\"\\t\", mysmiles[i])\n",
    "    print(\"\\t\", mysynonyms[0:5])\n",
    "    \n",
    "    time.sleep(0.2)\n"
   ]
  },
  {
   "cell_type": "markdown",
   "metadata": {},
   "source": [
    "## 2. Similarity search"
   ]
  },
  {
   "cell_type": "markdown",
   "metadata": {},
   "source": [
    "PubChem supports 2-dimensional (2-D) and 3-dimensional (3-D) similarity searches.  Because molecular similarity is not a measurable physical observable but a subjective concept, many approaches have been developed to evaluate it.  Detailed discussion on how PubChem quantifyies molecular similarity, read the following LibreTexts page:\n",
    "    \n",
    "**Searching PubChem Using a Non-Textual Query** (https://bit.ly/2lPznCo)\n"
   ]
  },
  {
   "cell_type": "markdown",
   "metadata": {},
   "source": [
    "The code cell below demonstrates how to perform 2-D and 3-D similarity searches."
   ]
  },
  {
   "cell_type": "code",
   "execution_count": 4,
   "metadata": {},
   "outputs": [
    {
     "name": "stdout",
     "output_type": "stream",
     "text": [
      "# Number of CIDs: 29\n",
      "['9875401', '6433119', '11524901', '68152323', '25190310', '25164166', '123868009', '56598114', '25255944', '11994745', '25190129', '25190130', '25190186', '25190187', '25190188', '25190189', '25190190', '25190248', '25190249', '25190250', '25190251', '25190252', '25190311', '25255845', '25255945', '25255946', '49849874', '56589668', '133687098']\n"
     ]
    }
   ],
   "source": [
    "mydata = { 'smiles' : \"C1COCC(=O)N1C2=CC=C(C=C2)N3C[C@@H](OC3=O)CNC(=O)C4=CC=C(S4)Cl\" }\n",
    "url = prolog + \"/compound/fastsimilarity_2d/smiles/cids/txt?Threshold=99\"\n",
    "res = requests.post(url,data=mydata)\n",
    "cids = res.text.split()\n",
    "\n",
    "print(\"# Number of CIDs:\", len(cids))\n",
    "print(cids)"
   ]
  },
  {
   "cell_type": "markdown",
   "metadata": {},
   "source": [
    "It is worth mentioning that the parameter name \"Threshold\" is **case-sensitive**.  If \"threshold\" is used (rather than \"Threshold\"), it will be ignored and the default value (0.90) will be used for the parameter.  \\[As a matter of fact, all optional parameter names in PUG-REST are case-sensitive.]"
   ]
  },
  {
   "cell_type": "code",
   "execution_count": 5,
   "metadata": {},
   "outputs": [
    {
     "name": "stdout",
     "output_type": "stream",
     "text": [
      "# Number of CIDs: 165 vs. 763\n"
     ]
    }
   ],
   "source": [
    "url1 = prolog + \"/compound/fastsimilarity_2d/smiles/cids/txt?Threshold=95\"\n",
    "url2 = prolog + \"/compound/fastsimilarity_2d/smiles/cids/txt?threshold=95\"  # \"threshold=95\" is ignored.\n",
    "\n",
    "res1 = requests.post(url1,data=mydata)\n",
    "res2 = requests.post(url2,data=mydata)\n",
    "cids1 = res1.text.split()\n",
    "cids2 = res2.text.split()\n",
    "\n",
    "print(\"# Number of CIDs:\", len(cids1), \"vs.\", len(cids2))"
   ]
  },
  {
   "cell_type": "markdown",
   "metadata": {},
   "source": [
    "It is possible to run 3-D similarity search using PUG-REST.  However, because 3-D similarity search takes much longer than 2-D similarity search, it often exceeds the 30-second time limit and returns a time-out error, especially when the query molecule is big."
   ]
  },
  {
   "cell_type": "markdown",
   "metadata": {},
   "source": [
    "In addition, for 3-D similarity search, it is **not** possible to adjust the similarity threshold (that is, the optional \"Threshold\" parameter does not work).  3-D similarity search uses a shape-Tanimoto (ST) of >=0.80 and a color-Tanimoto (CT) of >=0.50 as a similarity threshold.  Read the libreTexts page for more details (https://bit.ly/2lPznCo)."
   ]
  },
  {
   "cell_type": "code",
   "execution_count": 6,
   "metadata": {},
   "outputs": [
    {
     "name": "stdout",
     "output_type": "stream",
     "text": [
      "21424\n"
     ]
    }
   ],
   "source": [
    "mydata = { 'smiles' : 'CC(=O)OC1=CC=CC=C1C(=O)O'}\n",
    "url = prolog + \"/compound/fastsimilarity_3d/smiles/cids/txt\"\n",
    "res = requests.post(url, data=mydata)\n",
    "cids = res.text.split()\n",
    "print(len(cids))"
   ]
  },
  {
   "cell_type": "markdown",
   "metadata": {},
   "source": [
    "**Exercise 2a:** Perform 2-D similarity search with the following query, using a threshold of 0.80 and find the macromolecule targets of the assays in which the returned compounds were tested.  You will need to take these steps.\n",
    "\n",
    "- Run 2-D similarity search using the SMILES string as a query (with Threshold=80).\n",
    "- Retrieve the AIDs in which any of the returned CIDs was tested \"active\".\n",
    "- Retrieve the gene symbols of the targets for the returned AIDs."
   ]
  },
  {
   "cell_type": "code",
   "execution_count": 7,
   "metadata": {},
   "outputs": [],
   "source": [
    "query='[C@@H]23C(=O)[C@H](N)C(C)[C@H](CCC1=COC=C1)[C@@]2(C)CCCC3(C)C'"
   ]
  },
  {
   "cell_type": "code",
   "execution_count": 8,
   "metadata": {},
   "outputs": [
    {
     "name": "stdout",
     "output_type": "stream",
     "text": [
      "# Number of CIDs: 2437\n",
      "Processing chunk 0\n",
      "Processing chunk 1\n",
      "Processing chunk 2\n",
      "Processing chunk 3\n",
      "Processing chunk 4\n",
      "Processing chunk 5\n",
      "Processing chunk 6\n",
      "Processing chunk 7\n",
      "Processing chunk 8\n",
      "Processing chunk 9\n",
      "Processing chunk 10\n",
      "Processing chunk 11\n",
      "Processing chunk 12\n",
      "Processing chunk 13\n",
      "Processing chunk 14\n",
      "Processing chunk 15\n",
      "Processing chunk 16\n",
      "Processing chunk 17\n",
      "Processing chunk 18\n",
      "Processing chunk 19\n",
      "Processing chunk 20\n",
      "Processing chunk 21\n",
      "Processing chunk 22\n",
      "Processing chunk 23\n",
      "Processing chunk 24\n",
      "Processing chunk 25\n",
      "Processing chunk 26\n",
      "Processing chunk 27\n",
      "Processing chunk 28\n",
      "Processing chunk 29\n",
      "Processing chunk 30\n",
      "Processing chunk 31\n",
      "Processing chunk 32\n",
      "Processing chunk 33\n",
      "Processing chunk 34\n",
      "Processing chunk 35\n",
      "Processing chunk 36\n",
      "Processing chunk 37\n",
      "Processing chunk 38\n",
      "Processing chunk 39\n",
      "Processing chunk 40\n",
      "Processing chunk 41\n",
      "Processing chunk 42\n",
      "Processing chunk 43\n",
      "Processing chunk 44\n",
      "Processing chunk 45\n",
      "Processing chunk 46\n",
      "Processing chunk 47\n",
      "Processing chunk 48\n",
      "# Number of AIDs: 62\n",
      "{'EGFR', 'F2', 'CACNA1C', 'FNTA', 'CRHR2', 'NR0B1', 'AR', 'CCKAR', 'ATP1A3', 'NR1H4', 'SRC', 'OPRM1', 'DHFR', 'MMP1', 'TACR1', 'DRD2', 'METAP2', 'AGTR1', 'ALOX5', 'PDE5A', 'PDF', 'PARP1', 'MAPK14', 'GRIN1', 'CHEK1', 'GRM2', 'GALE', 'PTGS2', 'CNR1', 'ACHE', 'CHRNA1', 'PDGFRA', 'ATP1B1', 'ATP1A4', 'KCNJ5', 'TRPV1', 'ATP1A1', 'PLAU', 'ATP1B2', 'SIGMAR1', 'MMP13', 'CDK2', 'HTR1A', 'SLC6A3', 'CRHBP', 'FXYD2', 'ATP1A2', 'ANPEP', 'OPRK1', 'HRH3', 'PPARG', 'F10', 'ATP1B3', 'ESR1', 'NR1I2', 'GABRA1', 'ITGA2B', 'HTR5A', 'CRHR1', 'EDNRA', 'ADORA1', 'HTR2C', 'Htr1a'}\n"
     ]
    }
   ],
   "source": [
    "# Write your code in this cell.\n",
    "\n",
    "mydata = { 'smiles' : query }\n",
    "url = prolog + \"/compound/fastsimilarity_2d/smiles/cids/txt?Threshold=80\"\n",
    "res = requests.post(url, data=mydata)\n",
    "cids = res.text.split()\n",
    "print(\"# Number of CIDs:\", len(cids))\n",
    "\n",
    "chunk_size = 50\n",
    "\n",
    "if len(cids) % chunk_size == 0 :\n",
    "    num_chunks = int( len(cids) / chunk_size )\n",
    "else :\n",
    "    num_chunks = int( len(cids) / chunk_size ) + 1\n",
    "\n",
    "aids = []\n",
    "    \n",
    "for i in range(num_chunks):\n",
    "    \n",
    "    print(\"Processing chunk\", i)\n",
    "    \n",
    "    idx1 = chunk_size * i\n",
    "    idx2 = chunk_size * (i + 1)\n",
    "    str_cids = \",\".join(cids[idx1:idx2])\n",
    "\n",
    "    url = prolog + \"/compound/cid/\" + str_cids + \"/aids/txt?aids_type=active\"\n",
    "    res = requests.get(url)\n",
    "\n",
    "    if ( res.status_code == 200) :\n",
    "        aids.extend( res.text.split() )\n",
    "        \n",
    "    time.sleep(0.2)\n",
    "\n",
    "aids= list(set(aids))\n",
    "print(\"# Number of AIDs:\", len(aids))\n",
    "    \n",
    "url = prolog + \"/assay/aid/\" + \",\".join(aids) + \"/targets/GeneSymbol/TXT\"\n",
    "res = requests.get(url)\n",
    "targets = set( res.text.split() )\n",
    "print(targets)"
   ]
  },
  {
   "cell_type": "markdown",
   "metadata": {},
   "source": [
    "## 3. Substructure/Superstructure search"
   ]
  },
  {
   "cell_type": "markdown",
   "metadata": {},
   "source": [
    "When a chemical structure occurs as a part of a bigger chemical structure, the former is called a substructure and the latter is referred to as a superstructure (https://bit.ly/2lPznCo).  PUG-REST supports both substructure and superstructure searches.  For example, below is an example for substructure search using the core structure of antibiotic drugs called cephalosporins as a query (https://en.wikipedia.org/wiki/Cephalosporin). "
   ]
  },
  {
   "cell_type": "code",
   "execution_count": 9,
   "metadata": {},
   "outputs": [
    {
     "name": "stdout",
     "output_type": "stream",
     "text": [
      "# Number of CIDs: 21810\n"
     ]
    }
   ],
   "source": [
    "query = 'C12(SCC(=C(N1C([C@H]2NC(=O)[*])=O)C(=O)O[H])[*])[H]'\n",
    "\n",
    "mydata = { 'smiles' : query }\n",
    "url = prolog + \"/compound/fastsubstructure/smiles/cids/txt?Stereo=exact\"\n",
    "res = requests.post(url, data=mydata)\n",
    "cids = res.text.split()\n",
    "\n",
    "print(\"# Number of CIDs:\", len(cids))\n",
    "#print(cids)"
   ]
  },
  {
   "cell_type": "markdown",
   "metadata": {},
   "source": [
    "An important thing to remember about substructure search is that, if the query structure is not specific enough (that is, not big enough), it will return too many hits for the PubChem server can handle.  For example, if you perform substructure search using the \"C-C\" as a query, it will give you an error, because PubChem has ~96 million (organic) compounds with more than two carbon atoms and most of them will have the \"C-C\" unit. Therefore, if you get an \"time-out\" error while doing substructure search, consider providing more specific structure as an input query."
   ]
  },
  {
   "cell_type": "markdown",
   "metadata": {},
   "source": [
    "**Exercise 3a:** Below is the SMILES string for a HCV (Hepatitis C Virus) drug (Sovaldi).  Perform substructure search using this SMILES string as a query, identify compounds that are mentioned in patent documents, and create a list of the patent documents that mentioning them.\n",
    "\n",
    "- Use the default options for substructure search.\n",
    "- Use the \"XRefs\" operation to retrieve Patent IDs associated with the returned compounds.\n",
    "- For simplicity, ignore the CID-Patent ID mapping.  (That is, no need to track which CID is associated with which patent document.)"
   ]
  },
  {
   "cell_type": "code",
   "execution_count": 10,
   "metadata": {},
   "outputs": [],
   "source": [
    "query=\"C[C@@H](C(=O)OC(C)C)N[P@](=O)(OC[C@@H]1[C@H]([C@@]([C@@H](O1)N2C=CC(=O)NC2=O)(C)F)O)OC3=CC=CC=C3\""
   ]
  },
  {
   "cell_type": "code",
   "execution_count": 11,
   "metadata": {},
   "outputs": [
    {
     "name": "stdout",
     "output_type": "stream",
     "text": [
      "# Number of CIDs: 612\n",
      "Processing chunk 0\n",
      "Processing chunk 1\n",
      "Processing chunk 2\n",
      "Processing chunk 3\n",
      "Processing chunk 4\n",
      "Processing chunk 5\n",
      "Processing chunk 6\n",
      "Processing chunk 7\n",
      "Processing chunk 8\n",
      "Processing chunk 9\n",
      "Processing chunk 10\n",
      "Processing chunk 11\n",
      "Processing chunk 12\n",
      "# Number of Patent IDs: 487\n",
      "['EP2203462A2', 'EP2203462B1', 'EP2376514A2', 'EP2432792A1', 'EP2432792B1', 'EP2552930A2', 'EP2552930B1', 'EP2552931A2', 'EP2552931B1', 'EP2596004B1', 'EP2609923A2', 'EP2609923B1', 'EP2610264A2', 'EP2655392B1', 'EP2696679B1', 'EP2709613A2', 'EP2709613B1', 'EP2752422A1', 'EP2752422B1', 'EP2792680A1', 'EP2801580A1', 'EP2805960A1', 'EP2824109A1', 'EP2826784A1', 'EP2826784B1', 'EP2855478B1', 'EP2909223B1', 'EP2910562A1', 'EP2913337A1', 'EP2913337B1', 'EP2916840A1', 'EP2920192A1', 'EP2920192B1', 'EP2933260A1', 'EP2940031A1', 'EP2940031B1', 'EP2950786A1', 'EP2959888A1', 'EP2959891A1', 'EP2959901A1', 'EP2977379A1', 'EP2984097B1', 'EP2998307A1', 'EP3038601A1', 'EP3041855B1', 'EP3086795A1', 'EP3107924A1', 'EP3133062A1', 'EP3150616A1', 'EP3150616B1', 'EP3154526A2', 'EP3235824A1', 'EP3235824B1', 'EP3274356A1', 'EP3290428A1', 'EP3292863A1', 'EP3321275A1', 'EP3398954A1', 'EP3419983A1', 'EP3421482A1', 'EP3473636A1', 'US10000523B2', 'US10005810B2', 'US10005811B2', 'US10030044B2', 'US10034893B2', 'US10039779', 'US10039779B2', 'US10086011', 'US10086011B2', 'US10112967B2', 'US10160779B2', 'US10183037B2', 'US10195166B2', 'US10202384B2', 'US10238680B2', 'US10239910B2', 'US10239911B2', 'US10266558B2', 'US10307438B2', 'US20100016251', 'US20100016251A1', 'US20100286083', 'US20100286083A1', 'US20100298257', 'US20100298257A1', 'US20110245484', 'US20110245484A1', 'US20110251152', 'US20110251152A1', 'US20110257122', 'US20110257122A1', 'US20120202794', 'US20120202794A1', 'US20130029904', 'US20130029904A1', 'US20130029929', 'US20130029929A1', 'US20130078613', 'US20130102525', 'US20130102525A1', 'US20130102526A1', 'US20130102557', 'US20130102557A1', 'US20130102558A1', 'US20130109647', 'US20130109647A1', 'US20130136776A1', 'US20130137654', 'US20130137654A1', 'US20130165401', 'US20130165401A1', 'US20130165644', 'US20130165644A1', 'US20130224152A1', 'US20130243726', 'US20130243726A1', 'US20130281686', 'US20130281686A1', 'US20130288997', 'US20130288997A1', 'US20130310551', 'US20130310551A1', 'US20130315868', 'US20140024579A1', 'US20140024613', 'US20140024613A1', 'US20140045783', 'US20140045783A1', 'US20140112886', 'US20140112886A1', 'US20140121366', 'US20140121366A1', 'US20140128339A1', 'US20140140951', 'US20140140951A1', 'US20140140952', 'US20140140952A1', 'US20140140957A1', 'US20140140958A1', 'US20140154211', 'US20140154211A1', 'US20140161770', 'US20140161770A1', 'US20140187511', 'US20140187511A1', 'US20140206640', 'US20140206640A1', 'US20140212491A1', 'US20140213632A1', 'US20140221304A1', 'US20140235567A1', 'US20140249101', 'US20140249101A1', 'US20140274934', 'US20140274934A1', 'US20140288020', 'US20140288020A1', 'US20140309164', 'US20140309164A1', 'US20140309189', 'US20140309189A1', 'US20140309413', 'US20140309413A1', 'US20140315852', 'US20140315852A1', 'US20140323395A1', 'US20140343008A1', 'US20140357595', 'US20140357595A1', 'US20140363396', 'US20140363396A1', 'US20150018300', 'US20150024999A1', 'US20150037282', 'US20150037282A1', 'US20150038451A1', 'US20150064253', 'US20150064253A1', 'US20150079036A1', 'US20150139949', 'US20150139949A1', 'US20150150896', 'US20150150896A1', 'US20150150897', 'US20150150897A1', 'US20150164884', 'US20150164884A1', 'US20150175646', 'US20150175646A1', 'US20150175648', 'US20150175648A1', 'US20150183818A1', 'US20150196615', 'US20150196615A1', 'US20150231166', 'US20150231166A1', 'US20150259375A1', 'US20150274739A1', 'US20150283199A1', 'US20150284351', 'US20150284351A1', 'US20150291650A1', 'US20150299243', 'US20150299243A1', 'US20150361123', 'US20150361123A1', 'US20160002281A1', 'US20160016980A1', 'US20160016986A1', 'US20160045526A1', 'US20160082030A1', 'US20160083413A1', 'US20160101106A1', 'US20160115186A1', 'US20160120892A1', 'US20160122380A1', 'US20160130259A1', 'US20160130294A1', 'US20160136172A1', 'US20160137685A1', 'US20160143895A1', 'US20160206678A1', 'US20160220595A1', 'US20160257706A1', 'US20160317603A9', 'US20160318966A1', 'US20160340380A1', 'US20160354399A1', 'US20160354400A1', 'US20160354425A1', 'US20160354476A1', 'US20170015696A1', 'US20170022242A1', 'US20170029456A1', 'US20170049797A1', 'US20170080008A1', 'US20170095499A1', 'US20170100422A1', 'US20170107244A1', 'US20170112867A1', 'US20170128482A1', 'US20170137453A1', 'US20170151238A1', 'US20170151272A1', 'US20170189439A1', 'US20170202865A1', 'US20170217940A1', 'US20170218006A1', 'US20170218007A1', 'US20170247404A1', 'US20170296570A1', 'US20170313707A1', 'US20170313735A1', 'US20170327488A1', 'US20170333428A1', 'US20170348342A1', 'US20170348343A1', 'US20170360783A1', 'US20170360874A1', 'US20180000855A1', 'US20180008624A1', 'US20180021362A1', 'US20180022774A1', 'US20180030080A1', 'US20180030081A1', 'US20180030082A1', 'US20180036330A1', 'US20180042982A1', 'US20180044367A1', 'US20180099989A1', 'US20180105549A1', 'US20180111954A1', 'US20180162896A1', 'US20180177779A1', 'US20180200280A1', 'US20180215776A1', 'US20180221406A1', 'US20180271890A1', 'US20180273575A1', 'US20180298045A1', 'US20190046552A1', 'US20190054109A1', 'US20190100550A1', 'US20190111068A1', 'US20190153017A1', 'US20190167706A1', 'US20190177356A1', 'US20190185507A1', 'US20190192548A1', 'US7964580', 'US7964580B2', 'US8088368', 'US8273341', 'US8334270', 'US8334270B2', 'US8466159', 'US8466159B2', 'US8492386B2', 'US8551973', 'US8551973B2', 'US8563530', 'US8563530B2', 'US8575135', 'US8580765', 'US8580765B2', 'US8618076', 'US8618076B2', 'US8629263', 'US8629263B2', 'US8633309', 'US8633309B2', 'US8642756', 'US8642756B2', 'US8673926B2', 'US8680048B2', 'US8680106B2', 'US8685984', 'US8735372', 'US8735372B2', 'US8735569', 'US8735569B2', 'US8772474B2', 'US8809265B2', 'US8822430', 'US8841278', 'US8853176', 'US8853176B2', 'US8859756', 'US8859756B2', 'US8889159', 'US8889159B2', 'US8889701B1', 'US8906880', 'US8906880B2', 'US8921341', 'US8921384B2', 'US8940718', 'US8946242B2', 'US8957046', 'US8957046B2', 'US8969357B2', 'US8980865B2', 'US8987214B2', 'US8993578B2', 'US9034832B2', 'US9061041', 'US9061041B2', 'US9085573', 'US9085573B2', 'US9090642', 'US9090642B2', 'US9150603', 'US9150603B2', 'US9156872', 'US9156872B2', 'US9206217', 'US9206217B2', 'US9216960B2', 'US9242988B2', 'US9278990B2', 'US9284342', 'US9284342B2', 'US9296782', 'US9340568B2', 'US9364482B2', 'US9376410B2', 'US9393256', 'US9393256B2', 'US9394331B2', 'US9408863B2', 'US9416154B2', 'US9447132B2', 'US9447137B2', 'US9452194B2', 'US9457039B2', 'US9481703B2', 'US9487544B2', 'US9511056', 'US9549921B2', 'US9549941', 'US9549941B2', 'US9585906', 'US9585906B2', 'US9605018B2', 'US9637512B2', 'US9718851B2', 'US9732111B2', 'US9738646B2', 'US9744186B2', 'US9757406', 'US9757406B2', 'US9765107B2', 'US9828365B2', 'US9828408B2', 'US9828410B2', 'US9868745', 'US9943604B2', 'US9963480B2', 'WO2008121634A2', 'WO2010075517A2', 'WO2010135569A1', 'WO2011072370A1', 'WO2011123645A2', 'WO2011123668A2', 'WO2011123672A1', 'WO2012012465A1', 'WO2012075140A1', 'WO2012139028A2', 'WO2012142075A1', 'WO2012142085A1', 'WO2012142093A2', 'WO2013040492A2', 'WO2013066753A1', 'WO2013116592A1', 'WO2013177219A1', 'WO2013184698A1', 'WO2014004674A2', 'WO2014028343A1', 'WO2014047117A1', 'WO2014056442A1', 'WO2014059902A1', 'WO2014062596A1', 'WO2014063019A1', 'WO2014074725A1', 'WO2014076490A1', 'WO2014078427A1', 'WO2014078436A1', 'WO2014078463A1', 'WO2014120981A1', 'WO2014124430A1', 'WO2014135107A1', 'WO2014137929A1', 'WO2014148949A1', 'WO2014169278A1', 'WO2014169280A2', 'WO2014185995A1', 'WO2014194826A1', 'WO2014197400A1', 'WO2014205592A1', 'WO2014205593A1', 'WO2014205594A1', 'WO2014209726A1', 'WO2014209727A1', 'WO2014209729A1', 'WO2015013352A2', 'WO2015017713A1', 'WO2015030853A1', 'WO2015054706A1', 'WO2015081133A2', 'WO2015089810A1', 'WO2015094998A1', 'WO2015099989A1', 'WO2015101183A1', 'WO2015126995A1', 'WO2015150561A2', 'WO2015158913A1', 'WO2015191945A2', 'WO2016015638A1', 'WO2016016447A1', 'WO2016035006A1', 'WO2016042576A1', 'WO2016123905A1', 'WO2016151542A1', 'WO2016160646A1', 'WO2016176396A1', 'WO2016181313A1', 'WO2016189040A1', 'WO2016196735A2', 'WO2017029397A1', 'WO2017029408A1', 'WO2017077552A1', 'WO2017106710A1', 'WO2017144423A1', 'WO2017155923A1', 'WO2017184670A2', 'WO2017189978A1', 'WO2017190715A1', 'WO2017205078A1', 'WO2017210438A1', 'WO2017210483A1', 'WO2018015821A1', 'WO2018022221A1', 'WO2018025195A1', 'WO2018067241A1', 'WO2018121678A1', 'WO2019030387A1']\n"
     ]
    }
   ],
   "source": [
    "# Write your code in this cell.\n",
    "\n",
    "mydata = { 'smiles' : query }\n",
    "url = prolog + \"/compound/fastsubstructure/smiles/cids/txt\"\n",
    "res = requests.post(url, data=mydata)\n",
    "cids = res.text.split()\n",
    "print(\"# Number of CIDs:\", len(cids))\n",
    "\n",
    "chunk_size = 50\n",
    "\n",
    "if len(cids) % chunk_size == 0 :\n",
    "    num_chunks = int( len(cids) / chunk_size )\n",
    "else :\n",
    "    num_chunks = int( len(cids) / chunk_size ) + 1\n",
    "\n",
    "patentids = []\n",
    "    \n",
    "for i in range(num_chunks):\n",
    "    \n",
    "    print(\"Processing chunk\", i)\n",
    "    \n",
    "    idx1 = chunk_size * i\n",
    "    idx2 = chunk_size * (i + 1)\n",
    "    str_cids = \",\".join(cids[idx1:idx2])\n",
    "    \n",
    "    url = prolog + \"/compound/cid/\" + str_cids + \"/XRefs/PatentID/txt\"\n",
    "    res = requests.get(url)\n",
    "    \n",
    "    if ( res.status_code == 200 ) :\n",
    "        patentids.extend( res.text.split() )\n",
    "    \n",
    "    time.sleep(0.2)\n",
    "\n",
    "unique_patentids = sorted( set( patentids ) )\n",
    "print(\"# Number of Patent IDs:\", len(unique_patentids))\n",
    "print(unique_patentids)"
   ]
  },
  {
   "cell_type": "markdown",
   "metadata": {},
   "source": [
    "## 4. Molecular formula search"
   ]
  },
  {
   "cell_type": "markdown",
   "metadata": {},
   "source": [
    "Strictly speaking, molecular formula search is not structure search, but its PUG-REST request URL is constructed in a similar way to structure searches like identity, similarity, and substructure/superstructure searches."
   ]
  },
  {
   "cell_type": "code",
   "execution_count": 12,
   "metadata": {},
   "outputs": [
    {
     "name": "stdout",
     "output_type": "stream",
     "text": [
      "# Number of CIDs: 179\n"
     ]
    }
   ],
   "source": [
    "query = 'C22H28FN3O6S'    # Molecular formula for Crestor (Rosuvastatin: CID 446157)\n",
    "\n",
    "url = prolog + \"/compound/fastformula/\"+ query + \"/cids/txt\"\n",
    "res = requests.get(url)\n",
    "cids = res.text.split()\n",
    "print(\"# Number of CIDs:\", len(cids))\n",
    "#print(cids)"
   ]
  },
  {
   "cell_type": "markdown",
   "metadata": {},
   "source": [
    "It is possible to allow other elements to be present in addition to those specified by the query formula, as shown in the following example.\n"
   ]
  },
  {
   "cell_type": "code",
   "execution_count": 13,
   "metadata": {},
   "outputs": [
    {
     "name": "stdout",
     "output_type": "stream",
     "text": [
      "# Number of CIDs: 200\n"
     ]
    }
   ],
   "source": [
    "url = prolog + \"/compound/fastformula/\"+ query + \"/cids/txt?AllowOtherElements=true\"\n",
    "res = requests.get(url)\n",
    "cids = res.text.split()\n",
    "print(\"# Number of CIDs:\", len(cids))\n",
    "#print(cids)"
   ]
  },
  {
   "cell_type": "markdown",
   "metadata": {},
   "source": [
    "**Exercise 4a:**  The general molecular formula for alcohols is $C_{n}H_{(2n+2)}O$ \\[for example, CH4O (methanol), C2H6O (ethanol), C3H8O (propanol), etc].  Run molecular formula search using this general formula for n=1 through 20 and retrieve the XLogP values of the returned compounds for each value of n.  Print the minimum and maximum XLogP values for each n value."
   ]
  },
  {
   "cell_type": "code",
   "execution_count": 14,
   "metadata": {},
   "outputs": [
    {
     "name": "stdout",
     "output_type": "stream",
     "text": [
      "n= 1 ( 33 CIDs ) : -0.5 -0.500\n",
      "n= 2 ( 54 CIDs ) : -0.1 0.1\n",
      "n= 3 ( 60 CIDs ) : 0.3 0.400\n",
      "n= 4 ( 84 CIDs ) : 0.5 1.200\n",
      "n= 5 ( 84 CIDs ) : 0.900 1.700\n",
      "n= 6 ( 123 CIDs ) : 1.4 2.000\n",
      "n= 7 ( 203 CIDs ) : 1.8 2.900\n",
      "n= 8 ( 452 CIDs ) : 2.0 3.500\n",
      "n= 9 ( 712 CIDs ) : 2.6 4.300\n",
      "n= 10 ( 992 CIDs ) : 2.9 4.800\n",
      "n= 11 ( 1014 CIDs ) : 3.4 5.100\n",
      "n= 12 ( 904 CIDs ) : 3.7 5.400\n",
      "n= 13 ( 658 CIDs ) : 4.2 6.100\n",
      "n= 14 ( 595 CIDs ) : 4.6 6.700\n",
      "n= 15 ( 488 CIDs ) : 5.0 7.000\n",
      "n= 16 ( 510 CIDs ) : 5.4 7.500\n",
      "n= 17 ( 286 CIDs ) : 6.0 8.300\n",
      "n= 18 ( 363 CIDs ) : 6.2 8.600\n",
      "n= 19 ( 170 CIDs ) : 6.7 9.100\n",
      "n= 20 ( 268 CIDs ) : 7.0 9.500\n"
     ]
    }
   ],
   "source": [
    "# Write your code in this cell.\n",
    "\n",
    "for i in range(1,21) :\n",
    "    \n",
    "    num_C = i\n",
    "    num_H = 2*i + 2\n",
    "    \n",
    "    formula = 'C' + str(num_C) + 'H' + str(num_H) + 'O'\n",
    "    \n",
    "    url = prolog + \"/compound/fastformula/\"+ formula + \"/property/xlogp/txt\"\n",
    "    res = requests.get(url)\n",
    "    xlogp = res.text.split()\n",
    "    print(\"n=\", i, \"(\", len(xlogp) ,\"CIDs )\", \":\", min(xlogp), max(xlogp) )\n",
    "    \n",
    "    time.sleep(0.2)"
   ]
  }
 ],
 "metadata": {
  "kernelspec": {
   "display_name": "Python 3",
   "language": "python",
   "name": "python3"
  },
  "language_info": {
   "codemirror_mode": {
    "name": "ipython",
    "version": 3
   },
   "file_extension": ".py",
   "mimetype": "text/x-python",
   "name": "python",
   "nbconvert_exporter": "python",
   "pygments_lexer": "ipython3",
   "version": "3.6.6"
  }
 },
 "nbformat": 4,
 "nbformat_minor": 4
}

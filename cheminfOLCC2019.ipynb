{
 "cells": [
  {
   "cell_type": "markdown",
   "id": "22d3d8f7-e3cf-44eb-a66d-9a42d92e8a38",
   "metadata": {},
   "source": [
    "# 2019 Cheminformatics OLCC\n",
    "\n",
    "\n",
    "- [Python Assignment 1: Basics](lect1/lecture01-basics.ipynb)\n",
    "- [Python Assignment 2: Structure-inputs](lect2/lecture02-structure-inputs.ipynb)\n",
    "- [Python Assignment 3: List-conversion](lect3/lecture03-list-conversion.ipynb)\n",
    "- [Python Assignment 4: Standardization](lect4/lecture04-standardization.ipynb)\n",
    "- [Python Assignment 5: Structure-search](lect5/lecture05-structure-search.ipynb)\n",
    "- [Python Assignment 6: Molecular-similarity](lect6/lecture06-molecular-similarity.ipynb)\n",
    "- [Python Assignment 7: Virtual Screening](lect7/lecture07-1-virtual-screening_v0.ipynb)\n",
    "- [Python Assignment 8: Machine-learning](lect8/lecture08-machine-learning.ipynb)"
   ]
  },
  {
   "cell_type": "code",
   "execution_count": null,
   "id": "f1fe2a4c-3491-40e3-acd0-e20d106af7e1",
   "metadata": {},
   "outputs": [],
   "source": []
  }
 ],
 "metadata": {
  "kernelspec": {
   "display_name": "Python3.10 (MolSSI)",
   "language": "python",
   "name": "molssi"
  },
  "language_info": {
   "codemirror_mode": {
    "name": "ipython",
    "version": 3
   },
   "file_extension": ".py",
   "mimetype": "text/x-python",
   "name": "python",
   "nbconvert_exporter": "python",
   "pygments_lexer": "ipython3",
   "version": "3.10.13"
  }
 },
 "nbformat": 4,
 "nbformat_minor": 5
}
